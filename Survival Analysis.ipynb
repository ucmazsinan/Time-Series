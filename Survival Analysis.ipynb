{
  "cells":[
    {
      "cell_type":"code",
      "source":[
        "import pandas as pd \n",
        "import matplotlib.pyplot as plt \n",
        "import seaborn as sns \n",
        "import warnings\n",
        "from lifelines import KaplanMeierFitter, CoxPHFitter"
      ],
      "execution_count":3,
      "outputs":[
        
      ],
      "metadata":{
        
      }
    },
    {
      "cell_type":"code",
      "source":[
        "dF = pd.read_pickle(\"churndata.pkl\")\n",
        "dF"
      ],
      "execution_count":4,
      "outputs":[
        {
          "data":{
            "text\/html":[
              "<div>\n",
              "<style scoped>\n",
              "    .dataframe tbody tr th:only-of-type {\n",
              "        vertical-align: middle;\n",
              "    }\n",
              "\n",
              "    .dataframe tbody tr th {\n",
              "        vertical-align: top;\n",
              "    }\n",
              "\n",
              "    .dataframe thead th {\n",
              "        text-align: right;\n",
              "    }\n",
              "<\/style>\n",
              "<table border=\"1\" class=\"dataframe\">\n",
              "  <thead>\n",
              "    <tr style=\"text-align: right;\">\n",
              "      <th><\/th>\n",
              "      <th>id<\/th>\n",
              "      <th>months<\/th>\n",
              "      <th>offer<\/th>\n",
              "      <th>phone<\/th>\n",
              "      <th>multiple<\/th>\n",
              "      <th>internet_type<\/th>\n",
              "      <th>gb_mon<\/th>\n",
              "      <th>security<\/th>\n",
              "      <th>backup<\/th>\n",
              "      <th>protection<\/th>\n",
              "      <th>support<\/th>\n",
              "      <th>unlimited<\/th>\n",
              "      <th>contract<\/th>\n",
              "      <th>paperless<\/th>\n",
              "      <th>payment<\/th>\n",
              "      <th>monthly<\/th>\n",
              "      <th>total_revenue<\/th>\n",
              "      <th>satisfaction<\/th>\n",
              "      <th>churn_value<\/th>\n",
              "      <th>churn_score<\/th>\n",
              "      <th>cltv<\/th>\n",
              "    <\/tr>\n",
              "  <\/thead>\n",
              "  <tbody>\n",
              "    <tr>\n",
              "      <th>0<\/th>\n",
              "      <td>8779-QRDMV<\/td>\n",
              "      <td>1<\/td>\n",
              "      <td>None<\/td>\n",
              "      <td>No<\/td>\n",
              "      <td>No<\/td>\n",
              "      <td>DSL<\/td>\n",
              "      <td>8<\/td>\n",
              "      <td>No<\/td>\n",
              "      <td>No<\/td>\n",
              "      <td>Yes<\/td>\n",
              "      <td>No<\/td>\n",
              "      <td>No<\/td>\n",
              "      <td>Month-to-Month<\/td>\n",
              "      <td>Yes<\/td>\n",
              "      <td>Bank Withdrawal<\/td>\n",
              "      <td>39.65<\/td>\n",
              "      <td>59.65<\/td>\n",
              "      <td>3<\/td>\n",
              "      <td>1<\/td>\n",
              "      <td>91<\/td>\n",
              "      <td>5433<\/td>\n",
              "    <\/tr>\n",
              "    <tr>\n",
              "      <th>1<\/th>\n",
              "      <td>7495-OOKFY<\/td>\n",
              "      <td>8<\/td>\n",
              "      <td>Offer E<\/td>\n",
              "      <td>Yes<\/td>\n",
              "      <td>Yes<\/td>\n",
              "      <td>Fiber Optic<\/td>\n",
              "      <td>17<\/td>\n",
              "      <td>No<\/td>\n",
              "      <td>Yes<\/td>\n",
              "      <td>No<\/td>\n",
              "      <td>No<\/td>\n",
              "      <td>Yes<\/td>\n",
              "      <td>Month-to-Month<\/td>\n",
              "      <td>Yes<\/td>\n",
              "      <td>Credit Card<\/td>\n",
              "      <td>80.65<\/td>\n",
              "      <td>1024.10<\/td>\n",
              "      <td>3<\/td>\n",
              "      <td>1<\/td>\n",
              "      <td>69<\/td>\n",
              "      <td>5302<\/td>\n",
              "    <\/tr>\n",
              "    <tr>\n",
              "      <th>2<\/th>\n",
              "      <td>1658-BYGOY<\/td>\n",
              "      <td>18<\/td>\n",
              "      <td>Offer D<\/td>\n",
              "      <td>Yes<\/td>\n",
              "      <td>Yes<\/td>\n",
              "      <td>Fiber Optic<\/td>\n",
              "      <td>52<\/td>\n",
              "      <td>No<\/td>\n",
              "      <td>No<\/td>\n",
              "      <td>No<\/td>\n",
              "      <td>No<\/td>\n",
              "      <td>Yes<\/td>\n",
              "      <td>Month-to-Month<\/td>\n",
              "      <td>Yes<\/td>\n",
              "      <td>Bank Withdrawal<\/td>\n",
              "      <td>95.45<\/td>\n",
              "      <td>1910.88<\/td>\n",
              "      <td>2<\/td>\n",
              "      <td>1<\/td>\n",
              "      <td>81<\/td>\n",
              "      <td>3179<\/td>\n",
              "    <\/tr>\n",
              "    <tr>\n",
              "      <th>3<\/th>\n",
              "      <td>4598-XLKNJ<\/td>\n",
              "      <td>25<\/td>\n",
              "      <td>Offer C<\/td>\n",
              "      <td>Yes<\/td>\n",
              "      <td>No<\/td>\n",
              "      <td>Fiber Optic<\/td>\n",
              "      <td>12<\/td>\n",
              "      <td>No<\/td>\n",
              "      <td>Yes<\/td>\n",
              "      <td>Yes<\/td>\n",
              "      <td>No<\/td>\n",
              "      <td>Yes<\/td>\n",
              "      <td>Month-to-Month<\/td>\n",
              "      <td>Yes<\/td>\n",
              "      <td>Bank Withdrawal<\/td>\n",
              "      <td>98.50<\/td>\n",
              "      <td>2995.07<\/td>\n",
              "      <td>2<\/td>\n",
              "      <td>1<\/td>\n",
              "      <td>88<\/td>\n",
              "      <td>5337<\/td>\n",
              "    <\/tr>\n",
              "    <tr>\n",
              "      <th>4<\/th>\n",
              "      <td>4846-WHAFZ<\/td>\n",
              "      <td>37<\/td>\n",
              "      <td>Offer C<\/td>\n",
              "      <td>Yes<\/td>\n",
              "      <td>Yes<\/td>\n",
              "      <td>Fiber Optic<\/td>\n",
              "      <td>14<\/td>\n",
              "      <td>No<\/td>\n",
              "      <td>No<\/td>\n",
              "      <td>No<\/td>\n",
              "      <td>No<\/td>\n",
              "      <td>Yes<\/td>\n",
              "      <td>Month-to-Month<\/td>\n",
              "      <td>Yes<\/td>\n",
              "      <td>Bank Withdrawal<\/td>\n",
              "      <td>76.50<\/td>\n",
              "      <td>3102.36<\/td>\n",
              "      <td>2<\/td>\n",
              "      <td>1<\/td>\n",
              "      <td>67<\/td>\n",
              "      <td>2793<\/td>\n",
              "    <\/tr>\n",
              "    <tr>\n",
              "      <th>...<\/th>\n",
              "      <td>...<\/td>\n",
              "      <td>...<\/td>\n",
              "      <td>...<\/td>\n",
              "      <td>...<\/td>\n",
              "      <td>...<\/td>\n",
              "      <td>...<\/td>\n",
              "      <td>...<\/td>\n",
              "      <td>...<\/td>\n",
              "      <td>...<\/td>\n",
              "      <td>...<\/td>\n",
              "      <td>...<\/td>\n",
              "      <td>...<\/td>\n",
              "      <td>...<\/td>\n",
              "      <td>...<\/td>\n",
              "      <td>...<\/td>\n",
              "      <td>...<\/td>\n",
              "      <td>...<\/td>\n",
              "      <td>...<\/td>\n",
              "      <td>...<\/td>\n",
              "      <td>...<\/td>\n",
              "      <td>...<\/td>\n",
              "    <\/tr>\n",
              "    <tr>\n",
              "      <th>7038<\/th>\n",
              "      <td>2569-WGERO<\/td>\n",
              "      <td>72<\/td>\n",
              "      <td>None<\/td>\n",
              "      <td>Yes<\/td>\n",
              "      <td>No<\/td>\n",
              "      <td>None<\/td>\n",
              "      <td>0<\/td>\n",
              "      <td>No<\/td>\n",
              "      <td>No<\/td>\n",
              "      <td>No<\/td>\n",
              "      <td>No<\/td>\n",
              "      <td>No<\/td>\n",
              "      <td>Two Year<\/td>\n",
              "      <td>Yes<\/td>\n",
              "      <td>Bank Withdrawal<\/td>\n",
              "      <td>21.15<\/td>\n",
              "      <td>3039.53<\/td>\n",
              "      <td>5<\/td>\n",
              "      <td>0<\/td>\n",
              "      <td>45<\/td>\n",
              "      <td>5306<\/td>\n",
              "    <\/tr>\n",
              "    <tr>\n",
              "      <th>7039<\/th>\n",
              "      <td>6840-RESVB<\/td>\n",
              "      <td>24<\/td>\n",
              "      <td>Offer C<\/td>\n",
              "      <td>Yes<\/td>\n",
              "      <td>Yes<\/td>\n",
              "      <td>Cable<\/td>\n",
              "      <td>24<\/td>\n",
              "      <td>Yes<\/td>\n",
              "      <td>No<\/td>\n",
              "      <td>Yes<\/td>\n",
              "      <td>Yes<\/td>\n",
              "      <td>Yes<\/td>\n",
              "      <td>One Year<\/td>\n",
              "      <td>Yes<\/td>\n",
              "      <td>Mailed Check<\/td>\n",
              "      <td>84.80<\/td>\n",
              "      <td>2807.47<\/td>\n",
              "      <td>3<\/td>\n",
              "      <td>0<\/td>\n",
              "      <td>59<\/td>\n",
              "      <td>2140<\/td>\n",
              "    <\/tr>\n",
              "    <tr>\n",
              "      <th>7040<\/th>\n",
              "      <td>2234-XADUH<\/td>\n",
              "      <td>72<\/td>\n",
              "      <td>None<\/td>\n",
              "      <td>Yes<\/td>\n",
              "      <td>Yes<\/td>\n",
              "      <td>Fiber Optic<\/td>\n",
              "      <td>59<\/td>\n",
              "      <td>No<\/td>\n",
              "      <td>Yes<\/td>\n",
              "      <td>Yes<\/td>\n",
              "      <td>No<\/td>\n",
              "      <td>Yes<\/td>\n",
              "      <td>One Year<\/td>\n",
              "      <td>Yes<\/td>\n",
              "      <td>Credit Card<\/td>\n",
              "      <td>103.20<\/td>\n",
              "      <td>9453.04<\/td>\n",
              "      <td>4<\/td>\n",
              "      <td>0<\/td>\n",
              "      <td>71<\/td>\n",
              "      <td>5560<\/td>\n",
              "    <\/tr>\n",
              "    <tr>\n",
              "      <th>7041<\/th>\n",
              "      <td>4801-JZAZL<\/td>\n",
              "      <td>11<\/td>\n",
              "      <td>None<\/td>\n",
              "      <td>No<\/td>\n",
              "      <td>No<\/td>\n",
              "      <td>DSL<\/td>\n",
              "      <td>17<\/td>\n",
              "      <td>Yes<\/td>\n",
              "      <td>No<\/td>\n",
              "      <td>No<\/td>\n",
              "      <td>No<\/td>\n",
              "      <td>Yes<\/td>\n",
              "      <td>Month-to-Month<\/td>\n",
              "      <td>Yes<\/td>\n",
              "      <td>Bank Withdrawal<\/td>\n",
              "      <td>29.60<\/td>\n",
              "      <td>319.21<\/td>\n",
              "      <td>4<\/td>\n",
              "      <td>0<\/td>\n",
              "      <td>59<\/td>\n",
              "      <td>2793<\/td>\n",
              "    <\/tr>\n",
              "    <tr>\n",
              "      <th>7042<\/th>\n",
              "      <td>3186-AJIEK<\/td>\n",
              "      <td>66<\/td>\n",
              "      <td>None<\/td>\n",
              "      <td>Yes<\/td>\n",
              "      <td>No<\/td>\n",
              "      <td>Fiber Optic<\/td>\n",
              "      <td>11<\/td>\n",
              "      <td>Yes<\/td>\n",
              "      <td>No<\/td>\n",
              "      <td>Yes<\/td>\n",
              "      <td>Yes<\/td>\n",
              "      <td>Yes<\/td>\n",
              "      <td>Two Year<\/td>\n",
              "      <td>Yes<\/td>\n",
              "      <td>Bank Withdrawal<\/td>\n",
              "      <td>105.65<\/td>\n",
              "      <td>8887.86<\/td>\n",
              "      <td>4<\/td>\n",
              "      <td>0<\/td>\n",
              "      <td>38<\/td>\n",
              "      <td>5097<\/td>\n",
              "    <\/tr>\n",
              "  <\/tbody>\n",
              "<\/table>\n",
              "<p>7043 rows × 21 columns<\/p>\n",
              "<\/div>"
            ]
          },
          "metadata":{
            
          },
          "output_type":"display_data"
        }
      ],
      "metadata":{
        
      }
    },
    {
      "cell_type":"markdown",
      "source":[
        "Here, we can see various categories of customer variables, as well as `churn_value` (an indicator for whether the customer has left the sample), and `months` (the time variable). Let's start with some simple EDA related to these variables:"
      ],
      "attachments":{
        
      },
      "metadata":{
        
      }
    },
    {
      "cell_type":"code",
      "source":[
        "plt.figure(figsize=(8,8))\n",
        "sns.barplot(data = dF,\n",
        "                    x = 'churn_value',\n",
        "                    y = 'months')\n",
        "plt.grid(alpha = .3)\n",
        "plt.show()"
      ],
      "execution_count":7,
      "outputs":[
        {
          "data":{
            "image\/png":"[encoded data removed]"
          },
          "metadata":{
            "image\/png":{
              
            }
          },
          "output_type":"display_data"
        }
      ],
      "metadata":{
        
      }
    },
    {
      "cell_type":"markdown",
      "source":[
        "Clearly the average tenure is shorter for those that have churned. As we are interested in understanding the time dimension (how long someone will remain a customer), it is important to understand that our data are censored, i.e. the number of months before churn is biased downwards for customers who have not yet churned."
      ],
      "attachments":{
        
      },
      "metadata":{
        
      }
    },
    {
      "cell_type":"markdown",
      "source":[
        "# Section 2: Plotting the Kaplan-Meier Curve\n",
        "\n",
        "The Kaplan-Meier Curve represents a simple non-parametric visualization of survival likelihood function in our data. In that sense, it can be thought of as part of the EDA process for survival analysis. Let's start by fitting a simple Kaplan-Meier Curve on our data."
      ],
      "attachments":{
        
      },
      "metadata":{
        
      }
    },
    {
      "cell_type":"code",
      "source":[
        "kmf = KaplanMeierFitter()\n",
        "kmf.fit(dF.months, dF.churn_value, label = 'Kaplan Meier Estimate, full sample')\n",
        "kmf.plot(linewidth = 3, figsize = (10,4))\n",
        "plt.title('Customer Churn: Kaplan-Meier Curve')\n",
        "plt.xlabel('Months')\n",
        "plt.ylabel('Survival probability')\n",
        "plt.show()"
      ],
      "execution_count":13,
      "outputs":[
        {
          "data":{
            "image\/png":"[encoded data removed]"
          },
          "metadata":{
            "image\/png":{
              
            }
          },
          "output_type":"display_data"
        }
      ],
      "metadata":{
        
      }
    },
    {
      "cell_type":"markdown",
      "source":[
        "# Section 3: Examining Variables\n",
        "\n",
        "As we continue to examine the survival function, we may want to relate survival risk with features, or characteristics of our customers. In this example, we will look at diffences in survival risk for customers who have only a single service, vs. customers with multiple services. We can start by plotting a simple histogram for each category, looking at differences between churned and not-churned subsamples."
      ],
      "attachments":{
        
      },
      "metadata":{
        
      }
    },
    {
      "cell_type":"code",
      "source":[
        "dF1 = dF[dF.multiple == 'Yes']\n",
        "dF2 = dF[dF.multiple == 'No']\n",
        "\n",
        "fig, ax = plt.subplots(1, 2, figsize = (10,5))\n",
        "dF1.groupby('churn_value')['months'].plot(kind = 'hist', ax = ax[0],  title='Customers with Multiple Services.')\n",
        "ax[0].legend(labels = [\"Not Churned\", \"Churned\"])\n",
        "dF2.groupby('churn_value')['months'].plot(kind = 'hist', ax = ax[1], title='Customers with Single Service.')"
      ],
      "execution_count":12,
      "outputs":[
        {
          "data":{
            "text\/html":[
              
            ],
            "image\/png":"[encoded data removed]"
          },
          "metadata":{
            "image\/png":{
              
            }
          },
          "output_type":"display_data"
        }
      ],
      "metadata":{
        
      }
    },
    {
      "cell_type":"markdown",
      "source":[
        "We can see differences across these groups, let's examing Kaplan-Meier curves for various subsamples. This involves fitting the Kaplan Meier estimator separately for each subsample. "
      ],
      "attachments":{
        
      },
      "metadata":{
        
      }
    },
    {
      "cell_type":"code",
      "source":[
        "kmf.fit(dF1.months, dF1.churn_value)\n",
        "kmf.plot(label = \"Multiple Service\", figsize = (10, 5))\n",
        "kmf.fit(dF2.months, dF2.churn_value)\n",
        "kmf.plot(label='Single Service')\n",
        "plt.title('Number of Services and Churn: Kaplan-Meier Curve')\n",
        "plt.xlabel('Months')\n",
        "plt.ylabel('Survival probability')\n",
        "plt.show()"
      ],
      "execution_count":14,
      "outputs":[
        {
          "data":{
            "image\/png":"[encoded data removed]"
          },
          "metadata":{
            "image\/png":{
              
            }
          },
          "output_type":"display_data"
        }
      ],
      "metadata":{
        
      }
    },
    {
      "cell_type":"markdown",
      "source":[
        "# Section 4: Cox Proportional Hazards Model\n",
        "\n",
        "Having looked at our data and related Kaplan-Meier curves, we can formalize the analysis by running survival regression. There are several available models here, documented in the Python [lifelines](https:\/\/lifelines.readthedocs.io\/en\/latest\/) module. As we discussed in the course, the Cox model estimates a baseline hazard rate, and assumes features impact this hazard rate proportionally. While this is a strong assumption (and may not be true in general), the model still provides insight into the role of features and their importance impacting survival risk. Let's begin by setting data up for the Cox survival regression."
      ],
      "attachments":{
        
      },
      "metadata":{
        
      }
    },
    {
      "cell_type":"code",
      "source":[
        "dFU = dF[['multiple', 'churn_value']]\n",
        "dFD = pd.get_dummies(dFU, drop_first = True)\n",
        "dFD['months'] = dF.months\n",
        "dFD.rename(columns = {'multiple_Yes': 'Multiple Services'}, inplace = True)"
      ],
      "execution_count":22,
      "outputs":[
        
      ],
      "metadata":{
        
      }
    },
    {
      "cell_type":"code",
      "source":[
        "dFD"
      ],
      "execution_count":24,
      "outputs":[
        {
          "data":{
            "text\/html":[
              "<div>\n",
              "<style scoped>\n",
              "    .dataframe tbody tr th:only-of-type {\n",
              "        vertical-align: middle;\n",
              "    }\n",
              "\n",
              "    .dataframe tbody tr th {\n",
              "        vertical-align: top;\n",
              "    }\n",
              "\n",
              "    .dataframe thead th {\n",
              "        text-align: right;\n",
              "    }\n",
              "<\/style>\n",
              "<table border=\"1\" class=\"dataframe\">\n",
              "  <thead>\n",
              "    <tr style=\"text-align: right;\">\n",
              "      <th><\/th>\n",
              "      <th>churn_value<\/th>\n",
              "      <th>Multiple Services<\/th>\n",
              "      <th>months<\/th>\n",
              "    <\/tr>\n",
              "  <\/thead>\n",
              "  <tbody>\n",
              "    <tr>\n",
              "      <th>0<\/th>\n",
              "      <td>1<\/td>\n",
              "      <td>0<\/td>\n",
              "      <td>1<\/td>\n",
              "    <\/tr>\n",
              "    <tr>\n",
              "      <th>1<\/th>\n",
              "      <td>1<\/td>\n",
              "      <td>1<\/td>\n",
              "      <td>8<\/td>\n",
              "    <\/tr>\n",
              "    <tr>\n",
              "      <th>2<\/th>\n",
              "      <td>1<\/td>\n",
              "      <td>1<\/td>\n",
              "      <td>18<\/td>\n",
              "    <\/tr>\n",
              "    <tr>\n",
              "      <th>3<\/th>\n",
              "      <td>1<\/td>\n",
              "      <td>0<\/td>\n",
              "      <td>25<\/td>\n",
              "    <\/tr>\n",
              "    <tr>\n",
              "      <th>4<\/th>\n",
              "      <td>1<\/td>\n",
              "      <td>1<\/td>\n",
              "      <td>37<\/td>\n",
              "    <\/tr>\n",
              "    <tr>\n",
              "      <th>...<\/th>\n",
              "      <td>...<\/td>\n",
              "      <td>...<\/td>\n",
              "      <td>...<\/td>\n",
              "    <\/tr>\n",
              "    <tr>\n",
              "      <th>7038<\/th>\n",
              "      <td>0<\/td>\n",
              "      <td>0<\/td>\n",
              "      <td>72<\/td>\n",
              "    <\/tr>\n",
              "    <tr>\n",
              "      <th>7039<\/th>\n",
              "      <td>0<\/td>\n",
              "      <td>1<\/td>\n",
              "      <td>24<\/td>\n",
              "    <\/tr>\n",
              "    <tr>\n",
              "      <th>7040<\/th>\n",
              "      <td>0<\/td>\n",
              "      <td>1<\/td>\n",
              "      <td>72<\/td>\n",
              "    <\/tr>\n",
              "    <tr>\n",
              "      <th>7041<\/th>\n",
              "      <td>0<\/td>\n",
              "      <td>0<\/td>\n",
              "      <td>11<\/td>\n",
              "    <\/tr>\n",
              "    <tr>\n",
              "      <th>7042<\/th>\n",
              "      <td>0<\/td>\n",
              "      <td>0<\/td>\n",
              "      <td>66<\/td>\n",
              "    <\/tr>\n",
              "  <\/tbody>\n",
              "<\/table>\n",
              "<p>7043 rows × 3 columns<\/p>\n",
              "<\/div>"
            ]
          },
          "metadata":{
            
          },
          "output_type":"display_data"
        }
      ],
      "metadata":{
        
      }
    },
    {
      "cell_type":"markdown",
      "source":[
        "Now, let's fit a Cox proportional hazard model using the Multiple Services variable."
      ],
      "attachments":{
        
      },
      "metadata":{
        
      }
    },
    {
      "cell_type":"code",
      "source":[
        "cph = CoxPHFitter()\n",
        "cph.fit(dFD, duration_col = 'months', event_col = 'churn_value')\n",
        "cph.print_summary(style = 'ascii')"
      ],
      "execution_count":25,
      "outputs":[
        {
          "name":"stdout",
          "text":[
            "<lifelines.CoxPHFitter: fitted with 7043 total observations, 5174 right-censored observations>\n",
            "             duration col = 'months'\n",
            "                event col = 'churn_value'\n",
            "      baseline estimation = breslow\n",
            "   number of observations = 7043\n",
            "number of events observed = 1869\n",
            "   partial log-likelihood = -15641.90\n",
            "         time fit was run = 2021-10-30 17:26:58 UTC\n",
            "\n",
            "---\n",
            "                    coef  exp(coef)   se(coef)   coef lower 95%   coef upper 95%  exp(coef) lower 95%  exp(coef) upper 95%\n",
            "covariate                                                                                                                 \n",
            "Multiple Services  -0.24       0.79       0.05            -0.33            -0.15                 0.72                 0.86\n",
            "\n",
            "                      z      p   -log2(p)\n",
            "covariate                                \n",
            "Multiple Services -5.06 <0.005      21.18\n",
            "---\n",
            "Concordance = 0.55\n",
            "Partial AIC = 31285.81\n",
            "log-likelihood ratio test = 25.72 on 1 df\n",
            "-log2(p) of ll-ratio test = 21.27\n",
            "\n"
          ],
          "output_type":"stream"
        }
      ],
      "metadata":{
        
      }
    },
    {
      "cell_type":"markdown",
      "source":[
        "Here, we see regression output for the estimated cox model. The Cox model objet also allows us to plot coefficient estimates to assess their significance, using the `plot` method."
      ],
      "attachments":{
        
      },
      "metadata":{
        
      }
    },
    {
      "cell_type":"code",
      "source":[
        "cph.plot()\n",
        "plt.show()"
      ],
      "execution_count":27,
      "outputs":[
        {
          "data":{
            "image\/png":"[encoded data removed]"
          },
          "metadata":{
            "image\/png":{
              
            }
          },
          "output_type":"display_data"
        }
      ],
      "metadata":{
        
      }
    },
    {
      "cell_type":"markdown",
      "source":[
        "Here, we see the coefficient estimate, along with error bars used to assess statistical significance. The result is significantly different from zero, indicating a negative effect of the Multiple Services variable in our analysis."
      ],
      "attachments":{
        
      },
      "metadata":{
        
      }
    },
    {
      "cell_type":"markdown",
      "source":[
        "The Cox model object also allows us to assess results visually, by plotting resulting estimates of survival risk by covariate groups, using the `plot_covariate_groups` method. This can be useful to see estimated changes in survival risk across groups."
      ],
      "attachments":{
        
      },
      "metadata":{
        
      }
    },
    {
      "cell_type":"code",
      "source":[
        "cph.plot_partial_effects_on_outcome('Multiple Services', [1, 0], plot_baseline=False, figsize=(10, 6), lw=4)\n",
        "plt.show()"
      ],
      "execution_count":34,
      "outputs":[
        {
          "data":{
            "image\/png":"[encoded data removed]"
          },
          "metadata":{
            "image\/png":{
              
            }
          },
          "output_type":"display_data"
        }
      ],
      "metadata":{
        
      }
    },
    {
      "cell_type":"markdown",
      "source":[
        "To compare the impact across variables, let's include a few more variables: Satisfaction, Security Service, Backup Service, and Support, and re-run our analysis. We begin by setting up the data, as before."
      ],
      "attachments":{
        
      },
      "metadata":{
        
      }
    },
    {
      "cell_type":"code",
      "source":[
        "dFu = dF[['churn_value', 'satisfaction', 'security', 'backup', 'support']]\n",
        "dFd = pd.get_dummies(dFu, drop_first=True)\n",
        "dFd['months'] = dF.months\n",
        "dFd.columns"
      ],
      "execution_count":39,
      "outputs":[
        {
          "data":{
            "text\/plain":[
              "Index(['churn_value', 'satisfaction', 'security_Yes', 'backup_Yes',\n",
              "       'support_Yes', 'months'],\n",
              "      dtype='object')"
            ]
          },
          "metadata":{
            
          },
          "output_type":"display_data"
        }
      ],
      "metadata":{
        
      }
    },
    {
      "cell_type":"code",
      "source":[
        "dFd.rename(columns = {'security_Yes':'Security Services', 'backup_Yes':'Backup Services', 'support_Yes':'Support Services'},\n",
        "           inplace = True)"
      ],
      "execution_count":41,
      "outputs":[
        
      ],
      "metadata":{
        
      }
    },
    {
      "cell_type":"code",
      "source":[
        "# Fitting Cox Proportional Model\n",
        "cph = CoxPHFitter()\n",
        "cph.fit(dFd, duration_col = 'months', event_col = 'churn_value')\n",
        "cph.print_summary(style = 'ascii')"
      ],
      "execution_count":42,
      "outputs":[
        {
          "name":"stdout",
          "text":[
            "<lifelines.CoxPHFitter: fitted with 7043 total observations, 5174 right-censored observations>\n",
            "             duration col = 'months'\n",
            "                event col = 'churn_value'\n",
            "      baseline estimation = breslow\n",
            "   number of observations = 7043\n",
            "number of events observed = 1869\n",
            "   partial log-likelihood = -13308.14\n",
            "         time fit was run = 2021-10-30 17:42:43 UTC\n",
            "\n",
            "---\n",
            "                    coef  exp(coef)   se(coef)   coef lower 95%   coef upper 95%  exp(coef) lower 95%  exp(coef) upper 95%\n",
            "covariate                                                                                                                 \n",
            "satisfaction       -1.30       0.27       0.02            -1.34            -1.25                 0.26                 0.29\n",
            "Security Services  -1.09       0.34       0.07            -1.22            -0.96                 0.29                 0.38\n",
            "Backup Services    -0.63       0.53       0.05            -0.73            -0.52                 0.48                 0.59\n",
            "Support Services   -0.49       0.61       0.06            -0.61            -0.36                 0.54                 0.70\n",
            "\n",
            "                       z      p   -log2(p)\n",
            "covariate                                 \n",
            "satisfaction      -55.26 <0.005        inf\n",
            "Security Services -16.46 <0.005     199.73\n",
            "Backup Services   -11.77 <0.005     103.89\n",
            "Support Services   -7.50 <0.005      43.84\n",
            "---\n",
            "Concordance = 0.90\n",
            "Partial AIC = 26624.27\n",
            "log-likelihood ratio test = 4693.25 on 4 df\n",
            "-log2(p) of ll-ratio test = inf\n",
            "\n"
          ],
          "output_type":"stream"
        }
      ],
      "metadata":{
        
      }
    },
    {
      "cell_type":"markdown",
      "source":[
        "Again, we see results of regression output, denoting significance levels for each variable, as well as information about our dataset and model fit. \n",
        "As above, let's plot coefficients for different variables. This allows us to compare magnitudes and assess which variables have a larger influence on survival risk. "
      ],
      "attachments":{
        
      },
      "metadata":{
        
      }
    },
    {
      "cell_type":"code",
      "source":[
        "cph.plot()\n",
        "plt.show()"
      ],
      "execution_count":44,
      "outputs":[
        {
          "data":{
            "image\/png":"[encoded data removed]"
          },
          "metadata":{
            "image\/png":{
              
            }
          },
          "output_type":"display_data"
        }
      ],
      "metadata":{
        
      }
    },
    {
      "cell_type":"markdown",
      "source":[
        "Here, we see coefficient estimates for several variables, which helps us understand both their significance, as well as their relative magnitudes. The Satisfaction variable seems to have the largest impact on survival risk.\n",
        "\n",
        "Let's look at results for the Satisfaction variable by covariate group. This allows us to plot estiamted survival rates for different values of the Satisfaction and Security variables."
      ],
      "attachments":{
        
      },
      "metadata":{
        
      }
    },
    {
      "cell_type":"code",
      "source":[
        "cph.plot_partial_effects_on_outcome('satisfaction', [5, 4, 3, 2, 1], plot_baseline=False, figsize=(10, 6), lw=4) \n",
        "plt.show()"
      ],
      "execution_count":47,
      "outputs":[
        {
          "data":{
            "image\/png":"[encoded data removed]"
          },
          "metadata":{
            "image\/png":{
              
            }
          },
          "output_type":"display_data"
        }
      ],
      "metadata":{
        
      }
    },
    {
      "cell_type":"code",
      "source":[
        
      ],
      "execution_count":0,
      "outputs":[
        
      ],
      "metadata":{
        
      }
    }
  ],
  "metadata":{
    
  },
  "nbformat":4,
  "nbformat_minor":0
}